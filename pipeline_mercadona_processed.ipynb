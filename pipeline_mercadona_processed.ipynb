{
 "cells": [
  {
   "cell_type": "code",
   "execution_count": 0,
   "metadata": {
    "application/vnd.databricks.v1+cell": {
     "cellMetadata": {
      "byteLimit": 2048000,
      "rowLimit": 10000
     },
     "inputWidgets": {},
     "nuid": "4fa7c958-543e-4712-8ed1-7d8269b7a7d7",
     "showTitle": false,
     "tableResultSettingsMap": {},
     "title": ""
    }
   },
   "outputs": [],
   "source": [
    "# IMPORTS\n",
    "from delta.tables import DeltaTable\n",
    "from pyspark.sql.functions import col, to_date, when, trim, lower\n",
    "from pyspark.sql.types import DecimalType\n",
    "from pyspark.sql.functions import year, month, dayofmonth\n",
    "from pyspark.sql import functions as F\n",
    "from pyspark.sql.types import StringType\n",
    "import re\n"
   ]
  },
  {
   "cell_type": "code",
   "execution_count": 0,
   "metadata": {
    "application/vnd.databricks.v1+cell": {
     "cellMetadata": {
      "byteLimit": 2048000,
      "rowLimit": 10000
     },
     "inputWidgets": {},
     "nuid": "66238584-6e1b-4d55-8cbe-430fcfa2cad9",
     "showTitle": false,
     "tableResultSettingsMap": {},
     "title": ""
    }
   },
   "outputs": [],
   "source": [
    "def process_data(audit_date: str):\n",
    "    \"\"\"\n",
    "    Función para transformar los datos de raw y guardar en processed.\n",
    "    \n",
    "    Args:\n",
    "        run_date (str): fecha de ejecución (yyyy-MM-dd) desde orquestador.\n",
    "    \"\"\"\n",
    "    \n",
    "    # --- Lectura de raw filtrando por audit_date ---\n",
    "    PATH_RAW = \"/mnt/datalake/tfm/mercadona/raw/\"\n",
    "    datos_raw = spark.read.format(\"delta\").load(PATH_RAW)\n",
    "    datos_raw = datos_raw.filter(col(\"audit_date\") == audit_date)\n",
    "    \n",
    "    # --- Renombrar columnas y adaptar tipos ---\n",
    "    datos_raw = datos_raw.withColumnRenamed(\"nombre\", \"producto\")\n",
    "    datos_raw = datos_raw.withColumn(\"precio_unitario\", col(\"precio_unitario\").cast(DecimalType(10,2))) \\\n",
    "                         .withColumn(\"precio_pack\", col(\"precio_pack\").cast(DecimalType(10,2))) \\\n",
    "                         .withColumn(\"precio_referencia\", col(\"precio_referencia\").cast(DecimalType(10,2))) \\\n",
    "                         .withColumn(\"precio_anterior\", col(\"precio_anterior\").cast(DecimalType(10,2))) \\\n",
    "                         .withColumn(\"tamano_unidad\", col(\"tamano_unidad\").cast(DecimalType(10,2))) \\\n",
    "                         .withColumn(\"unidades_totales\", col(\"unidades_totales\").cast(\"int\")) \\\n",
    "                         .withColumn(\"iva\", col(\"iva\").cast(\"int\")) \\\n",
    "                         .withColumn(\"audit_date\", to_date(col(\"audit_date\"), \"yyyy-MM-dd\"))\n",
    "    \n",
    "    # --- Limpieza de strings ---\n",
    "    datos_raw = datos_raw.withColumn(\"producto\", trim(lower(col(\"producto\")))) \\\n",
    "                         .withColumn(\"categoria\", trim(lower(col(\"categoria\"))))\n",
    "    \n",
    "    # --- Tratamiento de variables ---\n",
    "    datos_raw = datos_raw.withColumn(\"precio_bajado\",\n",
    "                                     when(col(\"precio_anterior\").isNotNull(), True).otherwise(False))\n",
    "    datos_raw = datos_raw.withColumn(\"precio_anterior\",\n",
    "                                     when(col(\"precio_anterior\").isNull(), col(\"precio_unitario\")).otherwise(col(\"precio_anterior\")))\n",
    "    datos_raw = datos_raw.withColumn(\"porcentaje_descuento\",\n",
    "                                     when(col(\"precio_bajado\") == True, \n",
    "                                          ((col(\"precio_anterior\") - col(\"precio_unitario\")) / col(\"precio_anterior\")) * 100\n",
    "                                         ).otherwise(0)\n",
    "                                    ).withColumn(\"porcentaje_descuento\", col(\"porcentaje_descuento\").cast(DecimalType(10,2)))\n",
    "    \n",
    "    # --- Categorías grandes ---\n",
    "    datos_raw = datos_raw.withColumn(\"categoria_grande\",\n",
    "        when(col(\"categoria\").isin(\"aceite de oliva\", \"otros aceites\"), \"Aceites\")\n",
    "        .when(col(\"categoria\").isin(\"vinagre y otros aderezos\"), \"Vinagres y salsas\")\n",
    "        .when(col(\"categoria\").isin(\"cerveza botella y botellín\", \"cerveza lata\", \"combinado de cerveza\"), \"Cervezas\")\n",
    "        .when(col(\"categoria\").isin(\"rioja\", \"ribera del duero\", \"otros vinos tintos\", \"vino tinto de mesa\", \"tinto de verano y sangría\"), \"Vinos\")\n",
    "        .when(col(\"categoria\").isin(\"cereales integrales y muesli\", \"barritas de cereales\", \"cereales\"), \"Cereales\")\n",
    "        .when(col(\"categoria\").isin(\"arroz\"), \"Arroces y legumbres\")\n",
    "        .when(col(\"categoria\").isin(\"huevos\"), \"Huevos y lácteos\")\n",
    "        .when(col(\"categoria\").isin(\"detergente en polvo y monodosis\", \"detergente líquido y gel\", \"detergente lavado a mano\", \"suavizante\", \"quitamanchas\", \"activador y antical lavadora\", \"planchado\"), \"Limpieza\")\n",
    "        .when(col(\"categoria\").isin(\"pepinos y otros encurtidos\", \"aceitunas verdes\", \"aceitunas negras\", \"cóctel y banderillas\"), \"Conservas\")\n",
    "        .otherwise(\"Otros\")\n",
    "    )\n",
    "    \n",
    "    # --- Columnas de tiempo ---\n",
    "    datos_raw = datos_raw.withColumn(\"anio\", year(col(\"audit_date\"))) \\\n",
    "                         .withColumn(\"mes\", month(col(\"audit_date\"))) \\\n",
    "                         .withColumn(\"dia\", dayofmonth(col(\"audit_date\")))\n",
    "    \n",
    "    # --- Función para extraer marca ---\n",
    "    def extraer_marca(producto):\n",
    "        producto = producto.strip().lower()\n",
    "        marcas = [\n",
    "            \"hacendado\", \"bronchales\", \"vichy catalan\", \"cortes\", \"la casera\",\n",
    "            \"nesquik\", \"colacao\", \"la chocolatera\", \"bosque verde\", \"beltrán\",\n",
    "            \"enervit sport\", \"kellogg's\", \"brüggen\", \"stars\", \"campo nature\",\n",
    "            \"huerta de barros\", \"steinburg\", \"heineken\", \"amstel\", \"desperados\",\n",
    "            \"casón histórico\", \"sandevid\", \"don simón\", \"el elegido\", \"fidencio\",\n",
    "            \"bodegas borsao\", \"the guv'nor\", \"davida\", \"mar de uvas\", \"torre oria\"\n",
    "        ]\n",
    "        for marca in marcas:\n",
    "            if marca in producto:\n",
    "                return marca\n",
    "        return None\n",
    "    \n",
    "    extraer_marca_udf = F.udf(extraer_marca, StringType())\n",
    "    datos_raw = datos_raw.withColumn(\"marca\", extraer_marca_udf(col(\"producto\"))).dropDuplicates([\"id_producto\", \"audit_date\"])\n",
    "    \n",
    "    # --- Guardar en processed (Delta Lake) ---\n",
    "    PATH_PROCESSED = \"/mnt/datalake/tfm/mercadona/processed/\"\n",
    "    datos_raw.write.format(\"delta\") \\\n",
    "        .mode(\"append\") \\\n",
    "        .partitionBy(\"audit_date\") \\\n",
    "        .save(PATH_PROCESSED)\n",
    "    \n",
    "    print(f\"[OK] Datos processed guardados para {audit_date}\")\n",
    "\n",
    "dbutils.widgets.text(\"run_date\", \"\")\n",
    "audit_date = dbutils.widgets.get(\"run_date\")\n",
    "\n",
    "result = process_data(audit_date)\n",
    "dbutils.notebook.exit(result)\n"
   ]
  },
  {
   "cell_type": "code",
   "execution_count": 0,
   "metadata": {
    "application/vnd.databricks.v1+cell": {
     "cellMetadata": {},
     "inputWidgets": {},
     "nuid": "7e6b590b-eab6-4b3a-be51-92d106e15a00",
     "showTitle": false,
     "tableResultSettingsMap": {},
     "title": ""
    }
   },
   "outputs": [],
   "source": []
  }
 ],
 "metadata": {
  "application/vnd.databricks.v1+notebook": {
   "computePreferences": null,
   "dashboards": [],
   "environmentMetadata": {
    "base_environment": "",
    "environment_version": "3"
   },
   "inputWidgetPreferences": null,
   "language": "python",
   "notebookMetadata": {
    "pythonIndentUnit": 4
   },
   "notebookName": "pipeline_mercadona_processed",
   "widgets": {
    "run_date": {
     "currentValue": "",
     "nuid": "293bd78b-b443-4042-928b-e221782d89f6",
     "typedWidgetInfo": {
      "autoCreated": false,
      "defaultValue": "",
      "label": null,
      "name": "run_date",
      "options": {
       "widgetDisplayType": "Text",
       "validationRegex": null
      },
      "parameterDataType": "String"
     },
     "widgetInfo": {
      "widgetType": "text",
      "defaultValue": "",
      "label": null,
      "name": "run_date",
      "options": {
       "widgetType": "text",
       "autoCreated": false,
       "validationRegex": null
      }
     }
    }
   }
  },
  "language_info": {
   "name": "python"
  }
 },
 "nbformat": 4,
 "nbformat_minor": 0
}